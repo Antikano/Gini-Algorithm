{
 "cells": [
  {
   "cell_type": "code",
   "execution_count": 15,
   "id": "b87a32b5-13bc-4d46-816b-ca95a0f2884a",
   "metadata": {},
   "outputs": [],
   "source": [
    "import pandas as pd\n",
    "from graphviz import Digraph"
   ]
  },
  {
   "cell_type": "code",
   "execution_count": 16,
   "id": "7e917131-c607-47ba-b739-82b189e95a90",
   "metadata": {},
   "outputs": [
    {
     "name": "stdout",
     "output_type": "stream",
     "text": [
      "       RBC    HGB    HCT    MCV    MCH   MCHC SONUÇ\n",
      "0     2.60   3.60  15.70  59.20  13.60  22.90   yes\n",
      "1     2.83   4.72  24.32  85.92  26.10  30.52   yes\n",
      "2     4.61   6.62  24.22  52.52  14.32  27.32   yes\n",
      "3     3.90   7.02  24.82  63.62  17.92  28.22   yes\n",
      "4     2.07   7.32  22.92  10.61  35.30  31.90   yes\n",
      "...    ...    ...    ...    ...    ...    ...   ...\n",
      "1728  5.27  16.00  46.50  88.20  30.40  34.40    no\n",
      "1729  5.10  16.00  45.50  89.70  31.60  35.20    no\n",
      "1730  5.30  16.10  46.70  88.10  30.40  34.50    no\n",
      "1731  5.60  16.30  46.20  81.90  28.90  35.30    no\n",
      "1732  5.20  16.50  46.80  89.50  31.50  35.30    no\n",
      "\n",
      "[1733 rows x 7 columns]\n"
     ]
    }
   ],
   "source": [
    "column_names =  ['RBC', 'HGB','HCT', 'MCV', 'MCH', 'MCHC']\n",
    "Target_name = 'SONUÇ'\n",
    "\n",
    "veri = pd.read_excel('yeniEğitim3.xlsx')\n",
    "test_data = pd.read_excel('yeniTest3.xlsx') \n",
    "\n",
    "SONUÇ_column = veri[Target_name]\n",
    "veri.drop(columns=['Record'], inplace=True)\n",
    "\n",
    "\n",
    "print(veri)\n"
   ]
  },
  {
   "cell_type": "code",
   "execution_count": 17,
   "id": "bd524bcd-c5f6-4650-9f87-b1c22723feaa",
   "metadata": {},
   "outputs": [
    {
     "name": "stdout",
     "output_type": "stream",
     "text": [
      "{'RBC': 4.485683785343335, 'HGB': 12.450109636468552, 'HCT': 37.98213502596653, 'MCV': 84.62094633583382, 'MCH': 27.836497403346797, 'MCHC': 32.70079630698211}\n"
     ]
    }
   ],
   "source": [
    "def calculate_column_means(data_dict, column_names): # Sütun ortalamaları.\n",
    "    column_means = {}\n",
    "    for attribute in column_names:\n",
    "        if attribute in data_dict:\n",
    "            values = data_dict[attribute]\n",
    "           \n",
    "            mean = sum([float(value) for value in values]) / len(values)\n",
    "            column_means[attribute] = mean\n",
    "       \n",
    "    return column_means\n",
    "\n",
    "column_means = calculate_column_means(veri,column_names)\n",
    "print(column_means)"
   ]
  },
  {
   "cell_type": "code",
   "execution_count": 18,
   "id": "8029d6d7-4535-46c5-a2ab-59c12a2f9377",
   "metadata": {},
   "outputs": [],
   "source": [
    "def calculate_gini(data): # Verilen verinin Gini'sini hesaplar\n",
    "    total_samples = len(data)\n",
    "    yes_count = 0\n",
    "    no_count = 0\n",
    "    \n",
    "    if total_samples == 0:\n",
    "        return 0.0, yes_count + no_count  # Veri yoksa 0 olarak döner\n",
    "    \n",
    "    gini = 1.0 \n",
    "    \n",
    "    for _, row in data.iterrows(): # Yes ve No sayılarını belirliyor\n",
    "        class_label = row[Target_name]  # 'SONUÇ' sütunu üzerinden Yes / No değerini alıyor\n",
    "        if class_label == 'yes':\n",
    "            yes_count += 1\n",
    "        elif class_label == 'no':\n",
    "            no_count += 1\n",
    "    \n",
    "    class_prob_yes = yes_count / total_samples\n",
    "    class_prob_no = no_count / total_samples\n",
    "    gini -= class_prob_yes ** 2 + class_prob_no ** 2\n",
    "    \n",
    "    return gini, yes_count + no_count\n",
    "\n",
    "\n",
    "def gini_impurity(data, threshold, column):  # Sol ve Sağ verileri ayırır\n",
    "    sol_veri = data[data[column] <= threshold]\n",
    "    sag_veri = data[data[column] > threshold]\n",
    "   \n",
    "\n",
    "    gini_sol,sol_yes_no = calculate_gini(sol_veri)\n",
    "    gini_sag,sag_yes_no = calculate_gini(sag_veri)\n",
    "\n",
    "    return gini_sol, gini_sag, sol_yes_no, sag_yes_no\n",
    "\n",
    "def calculate_combined_gini(gini_sol, gini_sag, sol_samples, sag_samples):\n",
    "    total_samples = sol_samples + sag_samples\n",
    "    combined_gini = (sol_samples / total_samples) * gini_sol + (sag_samples / total_samples) * gini_sag\n",
    "    return combined_gini\n",
    "\n",
    "    "
   ]
  },
  {
   "cell_type": "code",
   "execution_count": 19,
   "id": "f0ad3747-af3b-4646-b586-02155c78e80d",
   "metadata": {},
   "outputs": [
    {
     "data": {
      "text/plain": [
       "('HGB', 12.450109636468552)"
      ]
     },
     "execution_count": 19,
     "metadata": {},
     "output_type": "execute_result"
    }
   ],
   "source": [
    "def TurGerekliColumnHesap(yVeri): # Verilen veri setinden min Gini ve ortalamasını döndürüyor.\n",
    "    gini_degerleri = {}\n",
    "    ortalamalar = {}\n",
    "    ortalamalar = calculate_column_means(yVeri ,column_names)\n",
    "    for column_name in column_names:\n",
    "        left_g, right_g, sol_yesNo, sag_yesNo = gini_impurity(yVeri, ortalamalar[column_name], column_name)\n",
    "        GiniDegeri = calculate_combined_gini(left_g, right_g, sol_yesNo, sag_yesNo)\n",
    "        gini_degerleri[column_name] = GiniDegeri \n",
    "    \n",
    "    min_gini_column = min(gini_degerleri, key=gini_degerleri.get)\n",
    "    min_gini_column_ortalama = ortalamalar[min_gini_column]\n",
    "    return min_gini_column,min_gini_column_ortalama\n",
    "\n",
    "TurGerekliColumnHesap(veri)\n"
   ]
  },
  {
   "cell_type": "code",
   "execution_count": 21,
   "id": "e08c9c16-7c60-4e91-a506-150abf7549a3",
   "metadata": {},
   "outputs": [],
   "source": [
    "class Node: \n",
    "    def __init__(self, column=None, threshold=None, left=None, right=None, label=None):\n",
    "        self.column = column  # Kullanılacak sütun adı\n",
    "        self.threshold = threshold  # Eşik (ortalama) değer\n",
    "        self.left = left  # Sol dal\n",
    "        self.right = right  # Sağ dal\n",
    "        self.label = label  # Yaprak düğüm için sınıf etiketi ( Yes / No )\n",
    "\n",
    "    def is_leaf(self):\n",
    "        return self.label is not None\n"
   ]
  },
  {
   "cell_type": "code",
   "execution_count": 22,
   "id": "0fc6b19b-170b-47ee-8b72-8da9fe1df8fd",
   "metadata": {},
   "outputs": [
    {
     "data": {
      "text/plain": [
       "'binary_tree.pdf'"
      ]
     },
     "execution_count": 22,
     "metadata": {},
     "output_type": "execute_result"
    }
   ],
   "source": [
    "import random\n",
    "\n",
    "def build_tree(data, dot=None, node_ids=None):\n",
    "    # En küçük Gini değerine sahip sütunu ve ortalama değeri al\n",
    "    min_gini_column, ortalama_deger = TurGerekliColumnHesap(data)\n",
    "\n",
    "    if dot is None:\n",
    "        dot = Digraph(comment='Decision Tree')\n",
    "\n",
    "    if node_ids is None:\n",
    "        node_ids = {}\n",
    "\n",
    "    # node'a atanacak ID'yi oluşturuluyor \n",
    "    node_id = f'{min_gini_column}_{ortalama_deger:.2f}_{random.randint(1, 100)}'\n",
    "\n",
    "    # Kök düğümü oluştur\n",
    "    root_node = Node(column=min_gini_column, threshold=ortalama_deger)\n",
    "    node_ids[root_node] = node_id\n",
    "\n",
    "    if len(set(data[Target_name])) > 1:\n",
    "        label = f'{min_gini_column}'\n",
    "        dot.node(node_id, label)\n",
    "        \n",
    "    # Sol dalı oluştur\n",
    "    left_data = data[data[min_gini_column] <= ortalama_deger]\n",
    "\n",
    "    if len(set(left_data[Target_name])) > 1:\n",
    "        root_node.left, dot, node_ids = build_tree(left_data, dot=dot, node_ids=node_ids)\n",
    "        dot.edge(node_id, node_ids[root_node.left], label=f'<= {ortalama_deger:.2f}')\n",
    "    else:\n",
    "        left_label = left_data[Target_name].values[0]\n",
    "        left_node_id = f'{left_label}_{ortalama_deger:.2f}_left_{random.randint(1, 100)}'  # Yaprak düğümünün id'sine '_left' ekle\n",
    "        root_node.left = Node(column=min_gini_column, threshold=ortalama_deger,label =left_label)\n",
    "        \n",
    "        dot.node(left_node_id, left_label)  # Yaprak düğümünün label'ını ayrıca ayarla\n",
    "        dot.edge(node_id, left_node_id, label=f'<= {ortalama_deger:.2f}')\n",
    "        node_ids[root_node.left] = left_node_id\n",
    "\n",
    "    # Sağ dalı oluştur\n",
    "    right_data = data[data[min_gini_column] > ortalama_deger]\n",
    "\n",
    "    if len(set(right_data[Target_name])) > 1:\n",
    "        root_node.right, dot, node_ids = build_tree(right_data, dot=dot, node_ids=node_ids)\n",
    "        dot.edge(node_id, node_ids[root_node.right], label=f'> {ortalama_deger:.2f}')\n",
    "    else:\n",
    "        right_label = right_data[Target_name].values[0]\n",
    "        right_node_id = f'{right_label}_{ortalama_deger:.2f}_right_{random.randint(1, 100)}'  # Yaprak düğümünün id'sine '_right' ekle\n",
    "        root_node.right = Node(column=min_gini_column, threshold=ortalama_deger,label =right_label)\n",
    "        \n",
    "        dot.node(right_node_id, right_label)  # Yaprak düğümünün label'ını ayrıca ayarla\n",
    "        dot.edge(node_id, right_node_id, label=f'> {ortalama_deger:.2f}')\n",
    "        node_ids[root_node.right] = right_node_id\n",
    "\n",
    "    return root_node, dot, node_ids\n",
    "\n",
    "tree, dot, _ = build_tree(veri)\n",
    "\n",
    "dot.render('binary_tree', view=True)\n"
   ]
  },
  {
   "cell_type": "code",
   "execution_count": 23,
   "id": "847f9356-9093-4e95-a440-5963bc9e880c",
   "metadata": {},
   "outputs": [
    {
     "name": "stdout",
     "output_type": "stream",
     "text": [
      "Correct Predictions: 854\n",
      "Incorrect Predictions: 12\n"
     ]
    }
   ],
   "source": [
    "def predict_tree(node, data_point):\n",
    "    while not node.is_leaf():\n",
    "        if data_point[node.column] <= node.threshold:\n",
    "            node = node.left\n",
    "        else:\n",
    "            node = node.right\n",
    "    return node.label\n",
    "\n",
    "def evaluate_tree(tree, test_data):\n",
    "    correct_predictions = 0\n",
    "    incorrect_predictions = 0\n",
    "\n",
    "    for _, row in test_data.iterrows():\n",
    "        predicted_label = predict_tree(tree, row)\n",
    "        true_label = row[Target_name]\n",
    "\n",
    "        if predicted_label == true_label:\n",
    "            correct_predictions += 1\n",
    "        else:\n",
    "            incorrect_predictions += 1\n",
    "            \n",
    "\n",
    "    return correct_predictions, incorrect_predictions\n",
    "\n",
    "\n",
    "\n",
    "correct_predictions, incorrect_predictions = evaluate_tree(tree, test_data)\n",
    "\n",
    "print(f\"Correct Predictions: {correct_predictions}\")\n",
    "print(f\"Incorrect Predictions: {incorrect_predictions}\")\n"
   ]
  },
  {
   "cell_type": "code",
   "execution_count": null,
   "id": "bbaf7f27-c402-4620-b25b-c9cb3aff2b88",
   "metadata": {},
   "outputs": [],
   "source": []
  },
  {
   "cell_type": "code",
   "execution_count": null,
   "id": "8cf02516-b298-4f30-bc32-19f54f0d8c6f",
   "metadata": {},
   "outputs": [],
   "source": []
  },
  {
   "cell_type": "code",
   "execution_count": null,
   "id": "9b6671e6-bb90-4aae-b8a7-8709b0543fef",
   "metadata": {},
   "outputs": [],
   "source": []
  }
 ],
 "metadata": {
  "kernelspec": {
   "display_name": "Python 3 (ipykernel)",
   "language": "python",
   "name": "python3"
  },
  "language_info": {
   "codemirror_mode": {
    "name": "ipython",
    "version": 3
   },
   "file_extension": ".py",
   "mimetype": "text/x-python",
   "name": "python",
   "nbconvert_exporter": "python",
   "pygments_lexer": "ipython3",
   "version": "3.12.0"
  }
 },
 "nbformat": 4,
 "nbformat_minor": 5
}
