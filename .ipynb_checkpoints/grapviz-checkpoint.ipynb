{
 "cells": [
  {
   "cell_type": "code",
   "execution_count": 15,
   "id": "a14a1850-d3b1-4c33-a673-e5d075605d1a",
   "metadata": {},
   "outputs": [
    {
     "data": {
      "text/plain": [
       "'binary_tree.pdf'"
      ]
     },
     "execution_count": 15,
     "metadata": {},
     "output_type": "execute_result"
    }
   ],
   "source": [
    "from graphviz import Digraph\n",
    "from IPython.display import IFrame, display\n",
    "\n",
    "class TreeNode:\n",
    "    def __init__(self, value):\n",
    "        self.value = value\n",
    "        self.left = None\n",
    "        self.right = None\n",
    "\n",
    "def visualize_tree(node, dot=None):\n",
    "    if dot is None:\n",
    "        dot = Digraph(comment='Binary Tree')\n",
    "        dot.node(str(node.value))\n",
    "    \n",
    "    if node.left:\n",
    "        dot.node(str(node.left.value))\n",
    "        dot.edge(str(node.value), str(node.left.value), label='nasdsfsdmfklsdmflksdılL')  # Add label 'L' for left edge\n",
    "        visualize_tree(node.left, dot)\n",
    "    \n",
    "    if node.right:\n",
    "        dot.node(str(node.right.value))\n",
    "        dot.edge(str(node.value), str(node.right.value), label='R')  # Add label 'R' for right edge\n",
    "        visualize_tree(node.right, dot)\n",
    "    \n",
    "    return dot\n",
    "\n",
    "# Example usage\n",
    "root = TreeNode(1)\n",
    "root.left = TreeNode(2)\n",
    "root.right = TreeNode(3)\n",
    "root.left.left = TreeNode(\"HAVA FALAN \\n UZUN FÖTLW\")\n",
    "root.left.right = TreeNode(5)\n",
    "\n",
    "dot = visualize_tree(root)\n",
    "dot.render('binary_tree', view=True)  # Output file will be 'binary_tree.pdf'\n"
   ]
  },
  {
   "cell_type": "code",
   "execution_count": null,
   "id": "3e3a9c9a-2b55-492a-bfa5-0699b7db2514",
   "metadata": {},
   "outputs": [],
   "source": []
  }
 ],
 "metadata": {
  "kernelspec": {
   "display_name": "Python 3 (ipykernel)",
   "language": "python",
   "name": "python3"
  },
  "language_info": {
   "codemirror_mode": {
    "name": "ipython",
    "version": 3
   },
   "file_extension": ".py",
   "mimetype": "text/x-python",
   "name": "python",
   "nbconvert_exporter": "python",
   "pygments_lexer": "ipython3",
   "version": "3.12.0"
  }
 },
 "nbformat": 4,
 "nbformat_minor": 5
}
