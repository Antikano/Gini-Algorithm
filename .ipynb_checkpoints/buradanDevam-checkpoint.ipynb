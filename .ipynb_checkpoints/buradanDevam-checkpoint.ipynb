{
 "cells": [
  {
   "cell_type": "code",
   "execution_count": 168,
   "id": "d874941a-01ee-4d54-96bf-553f8926432e",
   "metadata": {},
   "outputs": [],
   "source": [
    "import numpy as np\n",
    "import pandas as pd"
   ]
  },
  {
   "cell_type": "code",
   "execution_count": 188,
   "id": "65f2fa24-b008-483f-adaf-04cdef9a3550",
   "metadata": {},
   "outputs": [
    {
     "name": "stdout",
     "output_type": "stream",
     "text": [
      "        hava    ısı     nem    rüzgar   oyun\n",
      "0    güneşli  sıcak  yüksek     hafif  hayır\n",
      "1    güneşli  sıcak  yüksek  kuvvetli  hayır\n",
      "2    bulutlu  sıcak  yüksek     hafif   evet\n",
      "3   yağmurlu   ılık  yüksek     hafif   evet\n",
      "4   yağmurlu  soğuk  normal     hafif   evet\n",
      "5   yağmurlu  soğuk  normal  kuvvetli  hayır\n",
      "6    bulutlu  soğuk  normal  kuvvetli   evet\n",
      "7    güneşli   ılık  yüksek     hafif  hayır\n",
      "8    güneşli  soğuk  normal     hafif   evet\n",
      "9   yağmurlu   ılık  normal     hafif   evet\n",
      "10   güneşli   ılık  normal  kuvvetli   evet\n",
      "11   bulutlu   ılık  yüksek  kuvvetli   evet\n",
      "12   bulutlu  sıcak  normal     hafif   evet\n",
      "13  yağmurlu   ılık  yüksek  kuvvetli  hayır\n"
     ]
    }
   ],
   "source": [
    "attribute_names =  ['hava', 'ısı','nem', 'rüzgar']\n",
    "class_name = 'oyun'\n",
    "df = {\n",
    "  'hava': ['güneşli', 'güneşli', 'bulutlu', 'yağmurlu', 'yağmurlu', 'yağmurlu', 'bulutlu', 'güneşli', 'güneşli', 'yağmurlu', 'güneşli', 'bulutlu', 'bulutlu', 'yağmurlu'],\n",
    "  'ısı': ['sıcak', 'sıcak', 'sıcak', 'ılık', 'soğuk', 'soğuk', 'soğuk', 'ılık', 'soğuk', 'ılık', 'ılık', 'ılık', 'sıcak', 'ılık'],\n",
    "  'nem': ['yüksek', 'yüksek', 'yüksek', 'yüksek', 'normal', 'normal', 'normal', 'yüksek', 'normal', 'normal', 'normal', 'yüksek', 'normal', 'yüksek'],\n",
    "  'rüzgar': ['hafif', 'kuvvetli', 'hafif', 'hafif', 'hafif', 'kuvvetli', 'kuvvetli', 'hafif', 'hafif', 'hafif', 'kuvvetli', 'kuvvetli', 'hafif', 'kuvvetli'],\n",
    "  'oyun': ['hayır', 'hayır', 'evet', 'evet', 'evet', 'hayır', 'evet', 'hayır', 'evet', 'evet', 'evet', 'evet', 'evet', 'hayır']\n",
    "}\n",
    "df1 = pd.DataFrame (df, columns=df.keys())\n",
    "\n",
    "print(df1)"
   ]
  },
  {
   "cell_type": "code",
   "execution_count": 189,
   "id": "157ee2a0-e0ad-489d-bf3b-426344d3f471",
   "metadata": {},
   "outputs": [],
   "source": [
    "target_class_counts = df1[class_name].value_counts().keys()\n",
    "left_dict = {}\n",
    "\n",
    "right_dict = {}\n",
    "\n",
    "\n",
    "class Nmhk:\n",
    "    def __init__(self, left_gini_list, right_gini_list, column_name, gini_value):\n",
    "        self.left_gini_list = left_gini_list\n",
    "        self.right_gini_list = right_gini_list\n",
    "        self.column_name = column_name\n",
    "        self.gini_value = gini_value\n",
    "\n",
    "    def __str__(self):\n",
    "        return f\"sol Gini Listesi: {self.left_gini_list}, Sağ Gini Listesi: {self.right_gini_list}, Sütun Adı: {self.column_name}, Gini Değeri: {self.gini_value}\"\n",
    "\n",
    "\n",
    "for index in target_class_counts:\n",
    "    left_dict[index] = 0\n",
    "    right_dict[index] = 0\n",
    "\n",
    "def Ginx_many(sol,sag): \n",
    "    denomSol = sum(sol)\n",
    "    denomSag = sum(sag)\n",
    "    \n",
    "    ginx_product_Sol = 1\n",
    "    ginx_product_Sag = 1\n",
    "    for argg in sol:\n",
    "        ginx_product_Sol *= (argg / denomSol)\n",
    "    for arg in sag:\n",
    "        ginx_product_Sag *= (arg / denomSag)\n",
    "        \n",
    "    ginx_result_sol = 2 * ginx_product_Sol\n",
    "    ginx_result_sag = 2 * ginx_product_Sag\n",
    "\n",
    "    Gini = ((denomSol*ginx_result_sol)+(denomSag*ginx_result_sag))/(denomSol+denomSag) \n",
    "    return Gini\n",
    "\n",
    "def mini_table (column):\n",
    "    class_value_counts = df1[column].value_counts()\n",
    "    first_flag = 1\n",
    "    left_dict_colmn = []\n",
    "    right_dict_colmn = []\n",
    "    for key in class_value_counts.keys():\n",
    "        ddf = df1.loc[df1[column] == key]\n",
    "        target_class_counts_elements = ddf[class_name].value_counts()\n",
    "        \n",
    "        missing_classes = set(target_class_counts) - set(target_class_counts_elements.index)\n",
    "        for missing_class in missing_classes:\n",
    "            target_class_counts_elements[missing_class] = 0\n",
    "\n",
    "        if first_flag:\n",
    "            for targ in target_class_counts:\n",
    "                left_dict[targ] = target_class_counts_elements[targ]\n",
    "            first_flag = 0\n",
    "            left_dict_colmn.append(key)\n",
    "            \n",
    "        else:\n",
    "            for targ in target_class_counts:\n",
    "                right_dict[targ] += target_class_counts_elements[targ]\n",
    "            right_dict_colmn.append(key)\n",
    "    \n",
    "    my_nmhk = Nmhk(left_dict_colmn, right_dict_colmn, column,Ginx_many(left_dict.values(),right_dict.values()))\n",
    "    print(my_nmhk)\n",
    "    # left_dict ve right_dict içindeki değerleri sıfırlama\n",
    "    for key, value in left_dict.items():\n",
    "        left_dict[key] = 0\n",
    "    for key, value in right_dict.items():\n",
    "        right_dict[key] = 0\n",
    "    "
   ]
  },
  {
   "cell_type": "code",
   "execution_count": 195,
   "id": "52e3e4f1-ea73-4909-b563-5e6c0ef2cfac",
   "metadata": {},
   "outputs": [
    {
     "name": "stdout",
     "output_type": "stream",
     "text": [
      "sol Gini Listesi: ['güneşli'], Sağ Gini Listesi: ['yağmurlu', 'bulutlu'], Sütun Adı: hava, Gini Değeri: 0.39365079365079364\n",
      "*******************************************************************************************************************************\n",
      "sol Gini Listesi: ['ılık'], Sağ Gini Listesi: ['sıcak', 'soğuk'], Sütun Adı: ısı, Gini Değeri: 0.4583333333333333\n",
      "*******************************************************************************************************************************\n",
      "sol Gini Listesi: ['yüksek'], Sağ Gini Listesi: ['normal'], Sütun Adı: nem, Gini Değeri: 0.36734693877551017\n",
      "*******************************************************************************************************************************\n",
      "sol Gini Listesi: ['hafif'], Sağ Gini Listesi: ['kuvvetli'], Sütun Adı: rüzgar, Gini Değeri: 0.42857142857142855\n",
      "*******************************************************************************************************************************\n"
     ]
    }
   ],
   "source": [
    "\n",
    "for attribute_name in attribute_names:\n",
    "    \n",
    "    mini_table(attribute_name)\n",
    "    print(f'*******************************************************************************************************************************')\n",
    "\n",
    "    "
   ]
  },
  {
   "cell_type": "code",
   "execution_count": null,
   "id": "b51b4dac-de6d-4894-a47d-f365be1185e7",
   "metadata": {},
   "outputs": [],
   "source": []
  },
  {
   "cell_type": "code",
   "execution_count": null,
   "id": "d69f6c22-a335-4726-855f-a07e2da3c5fd",
   "metadata": {},
   "outputs": [],
   "source": []
  }
 ],
 "metadata": {
  "kernelspec": {
   "display_name": "Python 3 (ipykernel)",
   "language": "python",
   "name": "python3"
  },
  "language_info": {
   "codemirror_mode": {
    "name": "ipython",
    "version": 3
   },
   "file_extension": ".py",
   "mimetype": "text/x-python",
   "name": "python",
   "nbconvert_exporter": "python",
   "pygments_lexer": "ipython3",
   "version": "3.12.0"
  }
 },
 "nbformat": 4,
 "nbformat_minor": 5
}
