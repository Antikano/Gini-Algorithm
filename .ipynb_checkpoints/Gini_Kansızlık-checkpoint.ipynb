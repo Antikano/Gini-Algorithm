{
 "cells": [
  {
   "cell_type": "code",
   "execution_count": 1,
   "id": "b87a32b5-13bc-4d46-816b-ca95a0f2884a",
   "metadata": {},
   "outputs": [],
   "source": [
    "import pandas as pd\n",
    "import statistics"
   ]
  },
  {
   "cell_type": "code",
   "execution_count": 13,
   "id": "7e917131-c607-47ba-b739-82b189e95a90",
   "metadata": {},
   "outputs": [
    {
     "name": "stdout",
     "output_type": "stream",
     "text": [
      "        RBC    HGB    HCT    MCV    MCH   MCHC SONUÇ\n",
      "0     13.10   4.60  38.80  84.20  28.40  33.80    no\n",
      "1      4.24   6.62  23.72  55.92  15.62  27.82   yes\n",
      "2      4.06   7.02  24.62  60.62  17.22  28.52   yes\n",
      "3      2.00   7.30  21.80   6.90  35.80  33.50   yes\n",
      "4      3.12   7.32  23.62  75.62  23.42  30.92   yes\n",
      "...     ...    ...    ...    ...    ...    ...   ...\n",
      "1727   5.27  16.00  46.50  88.20  30.40  34.40    no\n",
      "1728   5.10  16.00  45.50  89.70  31.60  35.20    no\n",
      "1729   5.30  16.10  46.70  88.10  30.40  34.50    no\n",
      "1730   5.60  16.30  46.20  81.90  28.90  35.30    no\n",
      "1731   5.20  16.50  46.80  89.50  31.50  35.30    no\n",
      "\n",
      "[1732 rows x 7 columns]\n"
     ]
    }
   ],
   "source": [
    "attribute_names =  ['RBC', 'HGB','HCT', 'MCV', 'MCH', 'MCHC']\n",
    "Target_name = 'SONUÇ'\n",
    "veri = pd.read_excel('yeniEğitim2.xlsx')\n",
    "SONUÇ_column = veri[Target_name]\n",
    "veri.drop(columns=['Record'], inplace=True)\n",
    "\n",
    "# Virgül ile ayrılmış ondalık sayıları nokta ile değiştir\n",
    "#veri[attribute_names] = veri[attribute_names].apply(lambda x: x.str.replace(',', '.', regex=False)) #bu iki satır kalsın veriye göre lazım oluyor\n",
    "\n",
    "# Verileri float türüne dönüştür\n",
    "#veri[attribute_names] = veri[attribute_names].astype(float) #bu iki satır kalsın veriye göre lazım oluyor\n",
    "\n",
    "\n",
    "print(veri)\n"
   ]
  },
  {
   "cell_type": "code",
   "execution_count": 14,
   "id": "bd524bcd-c5f6-4650-9f87-b1c22723feaa",
   "metadata": {},
   "outputs": [],
   "source": [
    "def calculate_column_means(data_dict, attribute_names):\n",
    "    column_means = {}\n",
    "    for attribute in attribute_names:\n",
    "        if attribute in data_dict:\n",
    "            values = data_dict[attribute]\n",
    "           \n",
    "            mean = sum([float(value) for value in values]) / len(values)\n",
    "            column_means[attribute] = mean\n",
    "       \n",
    "    return column_means\n",
    "\n",
    "def calculate_column_mean(data_dict, column_name):\n",
    "    if column_name in data_dict:\n",
    "        values = data_dict[column_name]\n",
    "        \n",
    "        # Verileri float tipine dönüştürerek ortalama hesapla\n",
    "        mean = sum([float(value) for value in values]) / len(values)\n",
    "        return mean\n",
    "\n",
    "column_means = calculate_column_means(veri,attribute_names)"
   ]
  },
  {
   "cell_type": "code",
   "execution_count": 15,
   "id": "8029d6d7-4535-46c5-a2ab-59c12a2f9377",
   "metadata": {},
   "outputs": [],
   "source": [
    "def calculate_combined_gini(gini_sol, gini_sag, sol_samples, sag_samples):\n",
    "    total_samples = sol_samples + sag_samples\n",
    "    combined_gini = (sol_samples / total_samples) * gini_sol + (sag_samples / total_samples) * gini_sag\n",
    "    return combined_gini\n",
    "\n",
    "\n",
    "def calculate_gini(data):\n",
    "    total_samples = len(data)\n",
    "    yes_count = 0\n",
    "    no_count = 0\n",
    "    \n",
    "    if total_samples == 0:\n",
    "        return 0.0, yes_count + no_count  # Veri yoksa Gini impurity 0, toplam örnek sayısı 0 olarak döner.\n",
    "    \n",
    "    gini = 1.0  # Başlangıçta Gini impurity'yi 1.0 olarak ayarlayın.\n",
    "    \n",
    "    for _, row in data.iterrows():\n",
    "        class_label = row[Target_name]  # 'SONUÇ' sütunu üzerinden sınıf etiketini alın\n",
    "        if class_label == 'yes':\n",
    "            yes_count += 1\n",
    "        elif class_label == 'no':\n",
    "            no_count += 1\n",
    "    \n",
    "    # Gini impurity hesaplaması\n",
    "    class_prob_yes = yes_count / total_samples\n",
    "    class_prob_no = no_count / total_samples\n",
    "    gini -= class_prob_yes ** 2 + class_prob_no ** 2\n",
    "    \n",
    "    return gini, yes_count + no_count\n",
    "\n",
    "\n",
    "\n",
    "\n",
    "def gini_impurity(data, threshold, column):  \n",
    "    sol_veri = data[data[column] <= threshold]\n",
    "    sag_veri = data[data[column] > threshold]\n",
    "   \n",
    "\n",
    "    gini_sol,sol_yes_no = calculate_gini(sol_veri)\n",
    "    gini_sag,sag_yes_no = calculate_gini(sag_veri)\n",
    "\n",
    "    return gini_sol, gini_sag, sol_yes_no, sag_yes_no\n",
    "\n",
    "\n",
    "\n",
    "    "
   ]
  },
  {
   "cell_type": "code",
   "execution_count": 16,
   "id": "f0ad3747-af3b-4646-b586-02155c78e80d",
   "metadata": {},
   "outputs": [
    {
     "data": {
      "text/plain": [
       "('HGB', 12.453441108545036)"
      ]
     },
     "execution_count": 16,
     "metadata": {},
     "output_type": "execute_result"
    }
   ],
   "source": [
    "def TurGerekliColumnHesap(yVeri):\n",
    "    gini_degerleri = {}\n",
    "    ortalamalar = {}\n",
    "    ortalamalar = calculate_column_means(yVeri ,attribute_names)\n",
    "    for attribute_name in attribute_names:\n",
    "        left_g, right_g, sol_yesNo, sag_yesNo = gini_impurity(yVeri, ortalamalar[attribute_name], attribute_name)\n",
    "        GiniDegeri = calculate_combined_gini(left_g, right_g, sol_yesNo, sag_yesNo)\n",
    "        gini_degerleri[attribute_name] = GiniDegeri \n",
    "    \n",
    "    min_gini_column = min(gini_degerleri, key=gini_degerleri.get)\n",
    "    min_gini_column_ortalama = ortalamalar[min_gini_column]\n",
    "    return min_gini_column,min_gini_column_ortalama\n",
    "\n",
    "TurGerekliColumnHesap(veri)\n"
   ]
  },
  {
   "cell_type": "code",
   "execution_count": 17,
   "id": "e08c9c16-7c60-4e91-a506-150abf7549a3",
   "metadata": {},
   "outputs": [],
   "source": [
    "class Node:\n",
    "    def __init__(self, column=None, threshold=None, left=None, right=None, label=None):\n",
    "        self.column = column  # Kullanılacak sütun adı\n",
    "        self.threshold = threshold  # Eşik değer\n",
    "        self.left = left  # Sol dal\n",
    "        self.right = right  # Sağ dal\n",
    "        self.label = label  # Yaprak düğüm için sınıf etiketi\n",
    "\n",
    "    def is_leaf(self):\n",
    "        return self.label is not None\n"
   ]
  },
  {
   "cell_type": "code",
   "execution_count": 18,
   "id": "0fc6b19b-170b-47ee-8b72-8da9fe1df8fd",
   "metadata": {},
   "outputs": [
    {
     "name": "stdout",
     "output_type": "stream",
     "text": [
      "çalışıyor mu\n"
     ]
    },
    {
     "data": {
      "text/plain": [
       "'binary_tree.pdf'"
      ]
     },
     "execution_count": 18,
     "metadata": {},
     "output_type": "execute_result"
    }
   ],
   "source": [
    "from graphviz import Digraph\n",
    "import random\n",
    "\n",
    "def build_tree(data, dot=None, node_ids=None):\n",
    "    # En küçük Gini değerine sahip sütunu ve ortalama değeri bul\n",
    "    min_gini_column, ortalama_deger = TurGerekliColumnHesap(data)\n",
    "\n",
    "    if dot is None:\n",
    "        dot = Digraph(comment='Decision Tree')\n",
    "\n",
    "    if node_ids is None:\n",
    "        node_ids = {}\n",
    "\n",
    "    # Generate a unique node ID\n",
    "    node_id = f'{min_gini_column}_{ortalama_deger:.2f}_{random.randint(1, 100)}'\n",
    "\n",
    "    # Kök düğümü oluştur\n",
    "    root_node = Node(column=min_gini_column, threshold=ortalama_deger)\n",
    "\n",
    "    # Register the node ID with the label\n",
    "    node_ids[root_node] = node_id\n",
    "    if len(set(data['SONUÇ'])) > 1:\n",
    "        label = f'{min_gini_column}'\n",
    "        dot.node(node_id, label)\n",
    "    # Sol dalı oluştur\n",
    "    left_data = data[data[min_gini_column] <= ortalama_deger]\n",
    "\n",
    "    if len(set(left_data['SONUÇ'])) > 1:\n",
    "        root_node.left, dot, node_ids = build_tree(left_data, dot=dot, node_ids=node_ids)\n",
    "        dot.edge(node_id, node_ids[root_node.left], label=f'<= {ortalama_deger:.2f}')\n",
    "    else:\n",
    "        left_label = left_data['SONUÇ'].values[0]\n",
    "        left_node_id = f'{left_label}_{ortalama_deger:.2f}_left_{random.randint(1, 100)}'  # Yaprak düğümünün id'sine '_left' ekle\n",
    "        root_node.left = Node(column=min_gini_column, threshold=ortalama_deger,label =left_label)\n",
    "        \n",
    "        dot.node(left_node_id, left_label)  # Yaprak düğümünün label'ını ayrıca ayarla\n",
    "        dot.edge(node_id, left_node_id, label=f'<= {ortalama_deger:.2f}')\n",
    "        node_ids[root_node.left] = left_node_id\n",
    "\n",
    "    # Sağ dalı oluştur\n",
    "    right_data = data[data[min_gini_column] > ortalama_deger]\n",
    "\n",
    "    if len(set(right_data['SONUÇ'])) > 1:\n",
    "        root_node.right, dot, node_ids = build_tree(right_data, dot=dot, node_ids=node_ids)\n",
    "        dot.edge(node_id, node_ids[root_node.right], label=f'> {ortalama_deger:.2f}')\n",
    "    else:\n",
    "        right_label = right_data['SONUÇ'].values[0]\n",
    "        right_node_id = f'{right_label}_{ortalama_deger:.2f}_right_{random.randint(1, 100)}'  # Yaprak düğümünün id'sine '_right' ekle\n",
    "        root_node.right = Node(column=min_gini_column, threshold=ortalama_deger,label =right_label)\n",
    "        \n",
    "        dot.node(right_node_id, right_label)  # Yaprak düğümünün label'ını ayrıca ayarla\n",
    "        dot.edge(node_id, right_node_id, label=f'> {ortalama_deger:.2f}')\n",
    "        node_ids[root_node.right] = right_node_id\n",
    "\n",
    "    return root_node, dot, node_ids\n",
    "\n",
    "print(f'çalışıyor mu')\n",
    "tree, dot, _ = build_tree(veri)\n",
    "\n",
    "dot.render('binary_tree', view=True)\n"
   ]
  },
  {
   "cell_type": "code",
   "execution_count": 20,
   "id": "847f9356-9093-4e95-a440-5963bc9e880c",
   "metadata": {},
   "outputs": [
    {
     "name": "stdout",
     "output_type": "stream",
     "text": [
      "Correct Predictions: 859\n",
      "Incorrect Predictions: 8\n"
     ]
    }
   ],
   "source": [
    "import pandas as pd\n",
    "\n",
    "def predict_tree(node, data_point):\n",
    "    while not node.is_leaf():\n",
    "        if data_point[node.column] <= node.threshold:\n",
    "            node = node.left\n",
    "        else:\n",
    "            node = node.right\n",
    "    return node.label\n",
    "\n",
    "def evaluate_tree(tree, test_data):\n",
    "    correct_predictions = 0\n",
    "    incorrect_predictions = 0\n",
    "\n",
    "    for _, row in test_data.iterrows():\n",
    "        predicted_label = predict_tree(tree, row)\n",
    "        true_label = row['SONUÇ']\n",
    "\n",
    "        if predicted_label == true_label:\n",
    "            correct_predictions += 1\n",
    "        else:\n",
    "            incorrect_predictions += 1\n",
    "\n",
    "    return correct_predictions, incorrect_predictions\n",
    "\n",
    "\n",
    "\n",
    "# Test verilerinizi bir Excel dosyasından yükleyin\n",
    "test_data = pd.read_excel('yeniTest2.xlsx')  # Dosya adını ve yolunu ayarlayın\n",
    "\n",
    "# Ağacı kullanarak test verilerini değerlendirin\n",
    "correct_predictions, incorrect_predictions = evaluate_tree(tree, test_data)\n",
    "\n",
    "print(f\"Correct Predictions: {correct_predictions}\")\n",
    "print(f\"Incorrect Predictions: {incorrect_predictions}\")\n"
   ]
  },
  {
   "cell_type": "code",
   "execution_count": null,
   "id": "bbaf7f27-c402-4620-b25b-c9cb3aff2b88",
   "metadata": {},
   "outputs": [],
   "source": []
  },
  {
   "cell_type": "code",
   "execution_count": null,
   "id": "8cf02516-b298-4f30-bc32-19f54f0d8c6f",
   "metadata": {},
   "outputs": [],
   "source": []
  },
  {
   "cell_type": "code",
   "execution_count": null,
   "id": "9b6671e6-bb90-4aae-b8a7-8709b0543fef",
   "metadata": {},
   "outputs": [],
   "source": []
  }
 ],
 "metadata": {
  "kernelspec": {
   "display_name": "Python 3 (ipykernel)",
   "language": "python",
   "name": "python3"
  },
  "language_info": {
   "codemirror_mode": {
    "name": "ipython",
    "version": 3
   },
   "file_extension": ".py",
   "mimetype": "text/x-python",
   "name": "python",
   "nbconvert_exporter": "python",
   "pygments_lexer": "ipython3",
   "version": "3.12.0"
  }
 },
 "nbformat": 4,
 "nbformat_minor": 5
}
